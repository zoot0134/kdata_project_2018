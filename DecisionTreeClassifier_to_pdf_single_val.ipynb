{
 "cells": [
  {
   "cell_type": "markdown",
   "metadata": {},
   "source": [
    "### multi class label 시도"
   ]
  },
  {
   "cell_type": "code",
   "execution_count": 1,
   "metadata": {},
   "outputs": [
    {
     "name": "stdout",
     "output_type": "stream",
     "text": [
      "HE_HP :\n",
      "\n",
      "1.0    2640\n",
      "2.0    1468\n",
      "3.0     600\n",
      "dtype: int64\n"
     ]
    }
   ],
   "source": [
    "import pandas as pd\n",
    "\n",
    "# 식품 섭취 데이터는 사용하지 않는 것으로 결정(2018-11-15)\n",
    "df_ALL = pd.read_sas(\"./HN16_ALL.sas7bdat\", format = 'sas7bdat', encoding='iso-8859-1')\n",
    "# df_ffq = pd.read_sas(\"./hn16_ffq.sas7bdat\", format = 'sas7bdat', encoding='iso-8859-1')\n",
    "\n",
    "# 19세 이상으로만 제한\n",
    "df_data = df_ALL.loc[(18 < df_ALL.age), :]\n",
    "# df_data.shape\n",
    "\n",
    "# 혈압치료중인 대상 제외\n",
    "df_data = df_data.loc[(1 < df_data.DI1_pt) | (df_data.DI1_pt < 1), :]\n",
    "# df_data.shape\n",
    "\n",
    "# 모든 값이 NaN값이 컬럼 삭제\n",
    "df_data = df_data.dropna(axis=1, how='all')\n",
    "# df_data.shape\n",
    "\n",
    "# 고혈압 유병여부 NaN값 대상 삭제\n",
    "df_data = df_data.dropna(subset=['HE_HP'])\n",
    "# df_data.shape\n",
    "\n",
    "# index 재 생성을 위해 ID로 인덱스 생성 후 인덱스 삭제\n",
    "df_data =  df_data.set_index('ID')\n",
    "df_data = df_data.reset_index()\n",
    "\n",
    "# 고혈압 유병여부\n",
    "# 1. 정상\n",
    "# 2. 고혈압전단계\n",
    "# 3. 고혈압\n",
    "# classification을 위해3. 고혈압을 2.로 변경하여 이산형으로 수정\n",
    "\n",
    "#df_data.loc[df_data.HE_HP == 3.0, 'HE_HP'] = 2.0\n",
    "print(\"HE_HP :\\n\")\n",
    "print(pd.value_counts(df_data.HE_HP.values, sort=False).sort_index()) # 고혈압 유병 여부"
   ]
  },
  {
   "cell_type": "code",
   "execution_count": 23,
   "metadata": {},
   "outputs": [],
   "source": [
    "from sklearn.tree import DecisionTreeClassifier\n",
    "from sklearn.metrics import accuracy_score, confusion_matrix, classification_report\n",
    "from sklearn import tree\n",
    "import graphviz\n",
    "from tqdm import tqdm_notebook\n",
    "\n",
    "#x_name = ['age', 'sex']\n",
    "# x_name = ['HE_ht']\n",
    "# y_name = 'HE_HP'\n",
    "\n",
    "def saveDTR(input_df, x_name, y_name) :\n",
    "\n",
    "    arrX1 = df_data[[x_name]]\n",
    "    arrY = df_data[y_name]\n",
    "\n",
    "    arrX1 = arrX1.fillna(-1)\n",
    "    #print(arrX1.isnull().sum())\n",
    "\n",
    "    model = DecisionTreeClassifier(\n",
    "        criterion = 'gini',\n",
    "        max_depth=6\n",
    "    )\n",
    "    #print(model)\n",
    "\n",
    "    model.fit(arrX1,arrY)\n",
    "\n",
    "    dot_data = tree.export_graphviz(model, out_file=None, \n",
    "                                    feature_names=[x_name], \n",
    "                                    class_names=['정상', '고혈압전단계', '고혈압']\n",
    "                                   )\n",
    "\n",
    "    graph = graphviz.Source(dot_data) \n",
    "    graph.render(\"./pdf_20181117/%s+%s\" % (x_name,y_name))\n",
    "    #graph.render(\"%s+%s\" % (x_name,y_name))\n",
    "\n",
    "#     modelPrediction = model.predict(arrX1)\n",
    "#     accuracyRate = accuracy_score(\n",
    "#         y_true=arrY\n",
    "#     ,   y_pred=modelPrediction\n",
    "#     )\n",
    "#     accuracyRate_list.append([x_name, y_name, accuracyRate])\n",
    "\n",
    "    #print('정확도 = ', accuracyRate)\n",
    "\n",
    "# # HE_HP(고혈압 유병여부) 제외\n",
    "# skip_list = [\n",
    "#     df_data.HE_HP.name\n",
    "#     #, df_data.ID.name\n",
    "    \n",
    "# ]\n",
    "\n",
    "# accuracyRate 담을 변수 준비\n",
    "# accuracyRate_list = []\n",
    "\n",
    "saveDTR(df_data, \"N_K\", df_data.HE_HP.name)\n",
    "\n",
    "# for x_name in tqdm_notebook(df_data.columns):\n",
    "#     if x_name in skip_list : continue\n",
    "#     #print(df_data[x_name].dtype.name)\n",
    "#     if df_data[x_name].dtype == 'object' : continue\n",
    "#     saveDTR(df_data, x_name, df_data.HE_HP.name)\n",
    "    \n",
    "# # accuracyRate_list > dataframe으로 변환해서 csv파일로 저장   \n",
    "# df_accuracyRate = pd.DataFrame(accuracyRate_list)\n",
    "# df_accuracyRate.to_csv(\"accuracyRate_list_multi_class.csv\")"
   ]
  },
  {
   "cell_type": "code",
   "execution_count": null,
   "metadata": {},
   "outputs": [],
   "source": []
  }
 ],
 "metadata": {
  "kernelspec": {
   "display_name": "Python 3",
   "language": "python",
   "name": "python3"
  },
  "language_info": {
   "codemirror_mode": {
    "name": "ipython",
    "version": 3
   },
   "file_extension": ".py",
   "mimetype": "text/x-python",
   "name": "python",
   "nbconvert_exporter": "python",
   "pygments_lexer": "ipython3",
   "version": "3.6.6"
  }
 },
 "nbformat": 4,
 "nbformat_minor": 2
}
