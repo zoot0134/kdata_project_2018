{
 "cells": [
  {
   "cell_type": "code",
   "execution_count": 82,
   "metadata": {},
   "outputs": [],
   "source": [
    "import pandas as pd\n",
    "#%matplotlib notebook\n",
    "#import seaborn as sns\n",
    "\n",
    "df_ALL = pd.read_sas(\"./HN16_ALL.sas7bdat\", format = 'sas7bdat', encoding='iso-8859-1')\n",
    "df_ffq = pd.read_sas(\"./hn16_ffq.sas7bdat\", format = 'sas7bdat', encoding='iso-8859-1')\n",
    "\n",
    "# 칼럼 저장\n",
    "# df_ffq.to_csv(\"df_ffq.csv\", encoding='iso-8859-1')\n",
    "# df_data.to_csv(\"df_data.csv\", encoding='iso-8859-1')"
   ]
  },
  {
   "cell_type": "markdown",
   "metadata": {},
   "source": [
    "### 데이터 준비\n",
    "1. 2개의 데이터프레임에서 중복된 칼럼 확인\n",
    "2. 2번째 데이터프레임에서 키값으로 사용할 ID를 제외한 나머지 중복 칼럼을 삭제\n",
    "3. ID를 키값으로 2개의 데이터 프레임 머지(left, right, inner, outer, index 등 세팅 확인\n",
    "4. 정상적으로 데이터프레임 합쳐졌는지, 널값으로 확인\n",
    "5. 이후 decision tree sklearn classifier를 이용해서 확인(코딩)"
   ]
  },
  {
   "cell_type": "code",
   "execution_count": 83,
   "metadata": {},
   "outputs": [],
   "source": [
    "# 2개의 리스트에 각각의 데이터프레임의 컬럼명을 저장\n",
    "list_col_all = df_ALL.columns.values\n",
    "list_col_ffq = df_ffq.columns.values\n",
    "\n",
    "# 리스트를 집합으로 변환하여 intersection 사용하여 교집합 구하고 다시 리스트로 반환\n",
    "list_col_overlab = list(set(list_col_all).intersection(list_col_ffq))\n",
    "# print(len(list_col_overlab)) # 갯수 확인\n",
    "# list_col_overlab # 컬럼 확인"
   ]
  },
  {
   "cell_type": "code",
   "execution_count": 84,
   "metadata": {},
   "outputs": [],
   "source": [
    "# 총 26개의 중복 칼럼명 리스트에서 merge 시 key값으로 사용할 'ID'' 삭제\n",
    "list_col_overlab.remove('ID')\n",
    "# print(len(list_col_overlab)) # 갯수 확인\n",
    "# list_col_overlab # 컬럼 확인"
   ]
  },
  {
   "cell_type": "code",
   "execution_count": 85,
   "metadata": {},
   "outputs": [
    {
     "name": "stdout",
     "output_type": "stream",
     "text": [
      "(8150, 434)\n",
      "(8150, 409)\n"
     ]
    }
   ],
   "source": [
    "# df_ffq 데이터프레임에서 ID를 제외한 나머지 중복 컬럼 삭제\n",
    "print(df_ffq.shape)\n",
    "df_ffq.drop(list_col_overlab, axis=1, inplace=True)\n",
    "print(df_ffq.shape)"
   ]
  },
  {
   "cell_type": "code",
   "execution_count": 86,
   "metadata": {},
   "outputs": [
    {
     "name": "stdout",
     "output_type": "stream",
     "text": [
      "(8150, 1176)\n"
     ]
    }
   ],
   "source": [
    "# 데이터프레임 merge\n",
    "df_merge = pd.merge(df_ALL, df_ffq, how='inner', on=[\n",
    "                                  'ID' # 개인 아이디\n",
    "                                  \n",
    "                                 ])\n",
    "print(df_merge.shape)"
   ]
  },
  {
   "cell_type": "code",
   "execution_count": 87,
   "metadata": {},
   "outputs": [],
   "source": [
    "# merge 데이터프레임 확인\n",
    "# df_merge.to_csv(\"df_merge.csv\", encoding='iso-8859-1')"
   ]
  },
  {
   "cell_type": "code",
   "execution_count": 88,
   "metadata": {},
   "outputs": [
    {
     "data": {
      "text/plain": [
       "(4727, 1176)"
      ]
     },
     "execution_count": 88,
     "metadata": {},
     "output_type": "execute_result"
    }
   ],
   "source": [
    "# 19세 이상으로만 제한\n",
    "df_data = df_merge.loc[(18 < df_merge.age), :]\n",
    "\n",
    "# 혈압치료중인 대상 제외\n",
    "df_data = df_data.loc[(1 < df_data.DI1_pt) | (df_data.DI1_pt < 1), :]\n",
    "\n",
    "df_data.shape"
   ]
  },
  {
   "cell_type": "code",
   "execution_count": 77,
   "metadata": {},
   "outputs": [],
   "source": [
    "# NaN값 컬럼별 카운트 확인\n",
    "#df_nan_sort = df_data.isnull().sum()"
   ]
  },
  {
   "cell_type": "code",
   "execution_count": 78,
   "metadata": {},
   "outputs": [],
   "source": [
    "# null값 많은 컬럼 및 카운트 저장\n",
    "#df_nan_sort.to_csv(\"df_nan_sort.csv\", encoding='iso-8859-1')"
   ]
  },
  {
   "cell_type": "code",
   "execution_count": 89,
   "metadata": {},
   "outputs": [
    {
     "data": {
      "text/plain": [
       "(4727, 1122)"
      ]
     },
     "execution_count": 89,
     "metadata": {},
     "output_type": "execute_result"
    }
   ],
   "source": [
    "# 모든 값이 NaN값이 컬럼 삭제\n",
    "df_data = df_data.dropna(axis=1, how='all')\n",
    "df_data.shape"
   ]
  },
  {
   "cell_type": "code",
   "execution_count": 90,
   "metadata": {},
   "outputs": [
    {
     "data": {
      "text/plain": [
       "(4708, 1122)"
      ]
     },
     "execution_count": 90,
     "metadata": {},
     "output_type": "execute_result"
    }
   ],
   "source": [
    "# 고혈압 유병여부 NaN값 대상 삭제\n",
    "df_data = df_data.dropna(subset=['HE_HP'])\n",
    "df_data.shape"
   ]
  },
  {
   "cell_type": "code",
   "execution_count": 91,
   "metadata": {},
   "outputs": [],
   "source": [
    "# index 재 생성을 위해 ID로 인덱스 생성 후 인덱스 삭제\n",
    "df_data =  df_data.set_index('ID')\n",
    "df_data = df_data.reset_index()\n"
   ]
  },
  {
   "cell_type": "code",
   "execution_count": 96,
   "metadata": {},
   "outputs": [
    {
     "name": "stdout",
     "output_type": "stream",
     "text": [
      "HE_HP :\n",
      "\n",
      "1.0    2640\n",
      "2.0    2068\n",
      "dtype: int64\n"
     ]
    }
   ],
   "source": [
    "# 고혈압 유병여부\n",
    "# 1. 정상\n",
    "# 2. 고혈압전단계\n",
    "# 3. 고혈압\n",
    "# classification을 위해3. 고혈압을 2.로 변경하여 이산형으로 수정\n",
    "\n",
    "df_data.loc[df_data.HE_HP == 3.0, 'HE_HP'] = 2.0\n",
    "print(\"HE_HP :\\n\")\n",
    "print(pd.value_counts(df_data.HE_HP.values, sort=False).sort_index()) # 고혈압 유병 여부"
   ]
  },
  {
   "cell_type": "code",
   "execution_count": 141,
   "metadata": {},
   "outputs": [
    {
     "data": {
      "application/vnd.jupyter.widget-view+json": {
       "model_id": "1ad6a716525341f9ada2adb7508a84d2",
       "version_major": 2,
       "version_minor": 0
      },
      "text/plain": [
       "HBox(children=(IntProgress(value=0, max=1122), HTML(value='')))"
      ]
     },
     "metadata": {},
     "output_type": "display_data"
    },
    {
     "name": "stdout",
     "output_type": "stream",
     "text": [
      "\n"
     ]
    }
   ],
   "source": [
    "from sklearn.tree import DecisionTreeClassifier\n",
    "from sklearn.metrics import accuracy_score, confusion_matrix, classification_report\n",
    "from sklearn import tree\n",
    "import graphviz\n",
    "from tqdm import tqdm_notebook\n",
    "\n",
    "#x_name = ['age', 'sex']\n",
    "# x_name = ['HE_ht']\n",
    "# y_name = 'HE_HP'\n",
    "\n",
    "def saveDTR(input_df, x_name, y_name) :\n",
    "\n",
    "    arrX1 = df_data[[x_name]]\n",
    "    arrY = df_data[y_name]\n",
    "\n",
    "    arrX1 = arrX1.fillna(-1)\n",
    "    #print(arrX1.isnull().sum())\n",
    "\n",
    "    model = DecisionTreeClassifier(\n",
    "        criterion = 'gini',\n",
    "        max_depth=2\n",
    "    )\n",
    "    #print(model)\n",
    "\n",
    "    model.fit(arrX1,arrY)\n",
    "\n",
    "    dot_data = tree.export_graphviz(model, out_file=None, feature_names=[x_name], class_names=['정상', '고혈압군'])\n",
    "\n",
    "    graph = graphviz.Source(dot_data) \n",
    "    graph.render(\"./pdf/%s+%s\" % (x_name,y_name))\n",
    "    #graph.render(\"%s+%s\" % (x_name,y_name))\n",
    "\n",
    "    modelPrediction = model.predict(arrX1)\n",
    "    accuracyRate = accuracy_score(\n",
    "        y_true=arrY\n",
    "    ,   y_pred=modelPrediction\n",
    "    )\n",
    "    accuracyRate_list.append([x_name, y_name, accuracyRate])\n",
    "\n",
    "    #print('정확도 = ', accuracyRate)\n",
    "\n",
    "# HE_HP(고혈압 유병여부) 제외\n",
    "skip_list = [\n",
    "    df_data.HE_HP.name\n",
    "    #, df_data.ID.name\n",
    "    \n",
    "]\n",
    "\n",
    "# accuracyRate 담을 변수 준비\n",
    "accuracyRate_list = []\n",
    "\n",
    "for x_name in tqdm_notebook(df_data.columns):\n",
    "    if x_name in skip_list : continue\n",
    "    #print(df_data[x_name].dtype.name)\n",
    "    if df_data[x_name].dtype == 'object' : continue\n",
    "    saveDTR(df_data, x_name, df_data.HE_HP.name)\n",
    "    \n",
    "# accuracyRate_list > dataframe으로 변환해서 csv파일로 저장   \n",
    "df_accuracyRate = pd.DataFrame(accuracyRate_list)\n",
    "df_accuracyRate.to_csv(\"accuracyRate_list.csv\")"
   ]
  },
  {
   "cell_type": "code",
   "execution_count": null,
   "metadata": {},
   "outputs": [],
   "source": []
  }
 ],
 "metadata": {
  "kernelspec": {
   "display_name": "Python 3",
   "language": "python",
   "name": "python3"
  },
  "language_info": {
   "codemirror_mode": {
    "name": "ipython",
    "version": 3
   },
   "file_extension": ".py",
   "mimetype": "text/x-python",
   "name": "python",
   "nbconvert_exporter": "python",
   "pygments_lexer": "ipython3",
   "version": "3.6.6"
  }
 },
 "nbformat": 4,
 "nbformat_minor": 2
}
