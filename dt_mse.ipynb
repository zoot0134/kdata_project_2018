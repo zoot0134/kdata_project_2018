{
 "cells": [
  {
   "cell_type": "code",
   "execution_count": 40,
   "metadata": {},
   "outputs": [],
   "source": [
    "import pandas as pd\n",
    "#%matplotlib notebook\n",
    "#import seaborn as sns\n",
    "\n",
    "df_ALL = pd.read_sas(\"./HN16_ALL.sas7bdat\", format = 'sas7bdat', encoding='iso-8859-1')\n",
    "#df_ALL.head()\n",
    "df_ffq = pd.read_sas(\"./hn16_ffq.sas7bdat\", format = 'sas7bdat', encoding='iso-8859-1')\n",
    "#df_ffq.head()\n",
    "\n",
    "df = pd.merge(df_ALL, df_ffq, how='left', on=[\n",
    "                                  'mod_d', # 최종DB 수정일\n",
    "                                  'ID', # 개인 아이디\n",
    "                                  'ID_fam', # 가구 아이디\n",
    "                                  'year', # 조사연도\n",
    "                                  'region', # 17개 시도\n",
    "                                  'town_t', # 동/읍면 구분\n",
    "                                  'apt_t', # 아파트 구분, 1.일반, 2.아파트\n",
    "                                  'psu', # 조사구번호\n",
    "                                  'sex', # 성별, 1.남자, 2.여자\n",
    "                                  'age', # 만나이, 80은 80이상 포함(탑코딩)\n",
    "                                  'age_month', # 만 1~6세의 경우 개월수(월령)\n",
    "                                  'incm', # 소득 사분위수(개인), 1.하, 2.중하, 3.중상, 4.상\n",
    "                                  'ho_incm', # 소득 사분위수(가구),  1.하, 2.중하, 3.중상, 4.상\n",
    "                                  'edu', # 교육수준 재분류 코드, 1.초졸이하, 2.중졸, 3.고졸, 4.대졸이상\n",
    "                                  'occp', # 직업재분류 및 실업/비경제활동 상태코드\n",
    "                                  'wt_hs', # 가구조사 가중치\n",
    "                                  'wt_itvex', # 건강설문-검진조사 가중치\n",
    "                                  'wt_pft', # 폐기능검사 가중치(만40세이상)\n",
    "                                  'wt_hm', # 중금속검사 가중치(만10세이상)\n",
    "                                  'wt_ntr', # 영양조사 가중치\n",
    "                                  'wt_tot', # 건강설문-검진조사 & 영양조사 가중치\n",
    "                                  'wt_pfhm', # 폐기능검사 & 중금속검사 가중치(만40세이상)\n",
    "                                  'wt_pfnt', # 폐기능검사 & 영양조사 가중치(만40세이상)\n",
    "                                  'wt_hmnt', # 중금속검사 & 영양조사 가중치(만10세이상)\n",
    "                                  'wt_pfhmnt', # 폐기능검사 & 중금속검사 & 영양조사 가중치(만40세이상)\n",
    "                                  'kstrata' # 분산추정 층\n",
    "                                 ])\n",
    "\n",
    "df_data = df.loc[(18 < df.age), :]\n",
    "\n",
    "df_data = df_data.loc[(1 < df_data.DI1_pt) | (df_data.DI1_pt < 1), :]"
   ]
  },
  {
   "cell_type": "code",
   "execution_count": 41,
   "metadata": {},
   "outputs": [
    {
     "data": {
      "application/vnd.jupyter.widget-view+json": {
       "model_id": "ab87534f34864341afdc51f5a2106374",
       "version_major": 2,
       "version_minor": 0
      },
      "text/plain": [
       "HBox(children=(IntProgress(value=0, max=1176), HTML(value='')))"
      ]
     },
     "metadata": {},
     "output_type": "display_data"
    },
    {
     "name": "stdout",
     "output_type": "stream",
     "text": [
      "\n"
     ]
    }
   ],
   "source": [
    "from sklearn.tree import DecisionTreeRegressor\n",
    "from sklearn.metrics import mean_squared_error\n",
    "import graphviz\n",
    "from sklearn import tree\n",
    "from tqdm import tqdm_notebook\n",
    "\n",
    "def data_clean(input_list, is_cap=False) :\n",
    "    tmp_list = []\n",
    "    for d in input_list :\n",
    "        try :\n",
    "            float(d)\n",
    "            if is_cap :\n",
    "                tmp_list.append([d])\n",
    "            else :\n",
    "                tmp_list.append(d)\n",
    "        except :\n",
    "            if is_cap :\n",
    "                tmp_list.append([-1])\n",
    "            else :\n",
    "                tmp_list.append(-1)\n",
    "    return tmp_list\n",
    "\n",
    "def saveDTR(input_df, x_name, y_name) :\n",
    "    arrX1 = data_clean(getattr(input_df,x_name).fillna(-1), is_cap=True)\n",
    "    arrY = data_clean(getattr(input_df,y_name).fillna(-1))\n",
    "    \n",
    "    model = DecisionTreeRegressor(\n",
    "        criterion = 'mse',\n",
    "        max_depth=2\n",
    "    )\n",
    "    model.fit(arrX1,arrY)\n",
    "\n",
    "#     dot_data = tree.export_graphviz(model,out_file=None,feature_names=[x_name], class_names=[y_name])\n",
    "\n",
    "#     graph = graphviz.Source(dot_data) \n",
    "#     graph.render(\"%s+%s\" % (x_name,y_name))\n",
    "\n",
    "    # mse값 계산. 정상적으로 만든건지는 모르겠음..\n",
    "    modelPrediction = model.predict(arrX1)\n",
    "    mse = mean_squared_error(arrY,modelPrediction)\n",
    "    # x_name, y_name, mse값을 mse_list에 append\n",
    "    mse_list.append([x_name, y_name, mse])\n",
    "    \n",
    "skip_list = [\n",
    "    df_data.HE_dbp.name\n",
    "    , df_data.HE_sbp.name\n",
    "]\n",
    "\n",
    "# saveDTR(df_data, df_data.age.name, df_data.HE_dbp.name)\n",
    "# saveDTR(df_data, df_data.age.name, df_data.HE_sbp.name)\n",
    "\n",
    "# mse list 담을 변수 준비\n",
    "mse_list = []\n",
    "\n",
    "for x_name in tqdm_notebook(df_data.columns):\n",
    "    if x_name in skip_list : continue\n",
    "    saveDTR(df_data, x_name, df_data.HE_dbp.name)\n",
    "    saveDTR(df_data, x_name, df_data.HE_sbp.name)\n",
    "\n",
    "# mse_list > dataframe으로 변환해서 csv파일로 저장   \n",
    "df_mse = pd.DataFrame(mse_list)\n",
    "df_mse.to_csv(\"mse_list.csv\")"
   ]
  },
  {
   "cell_type": "code",
   "execution_count": null,
   "metadata": {},
   "outputs": [],
   "source": []
  }
 ],
 "metadata": {
  "kernelspec": {
   "display_name": "Python 3",
   "language": "python",
   "name": "python3"
  },
  "language_info": {
   "codemirror_mode": {
    "name": "ipython",
    "version": 3
   },
   "file_extension": ".py",
   "mimetype": "text/x-python",
   "name": "python",
   "nbconvert_exporter": "python",
   "pygments_lexer": "ipython3",
   "version": "3.6.6"
  }
 },
 "nbformat": 4,
 "nbformat_minor": 2
}
